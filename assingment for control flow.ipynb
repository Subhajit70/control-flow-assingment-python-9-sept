{
 "cells": [
  {
   "cell_type": "code",
   "execution_count": 1,
   "id": "2867ca4a-e35c-4a97-a16a-f8949b0a6ea6",
   "metadata": {},
   "outputs": [],
   "source": [
    "#control flow"
   ]
  },
  {
   "cell_type": "code",
   "execution_count": 2,
   "id": "08b6a342-fc80-4036-a25f-c6d56dec4072",
   "metadata": {},
   "outputs": [
    {
     "name": "stdin",
     "output_type": "stream",
     "text": [
      "input a number: 150\n"
     ]
    },
    {
     "name": "stdout",
     "output_type": "stream",
     "text": [
      "it is posative number\n"
     ]
    }
   ],
   "source": [
    "#1 write a pythone programe to check if a given numbers is posetive or negative.\n",
    "\n",
    "num= float(input(\"input a number:\"))\n",
    "if num>0:\n",
    "    print(\"it is posative number\")\n",
    "else:\n",
    "    print(\"it is negative number\")\n",
    "           "
   ]
  },
  {
   "cell_type": "code",
   "execution_count": 3,
   "id": "aaeb9629-fcb9-4581-8469-4f403ca29fd4",
   "metadata": {},
   "outputs": [
    {
     "name": "stdin",
     "output_type": "stream",
     "text": [
      "enter age: 18\n"
     ]
    },
    {
     "name": "stdout",
     "output_type": "stream",
     "text": [
      "eligible for voting\n"
     ]
    }
   ],
   "source": [
    "#2 creat a programe that determines if a person eligible to vote based on theri age.\n",
    "\n",
    "age= int(input(\"enter age:\"))\n",
    "if age>=18:\n",
    "    print(\"eligible for voting\")\n",
    "else:\n",
    "    print(\"not eligible\")"
   ]
  },
  {
   "cell_type": "code",
   "execution_count": 1,
   "id": "8baf21a3-a7f0-4163-83cd-a355102c2990",
   "metadata": {},
   "outputs": [
    {
     "name": "stdout",
     "output_type": "stream",
     "text": [
      "67\n"
     ]
    }
   ],
   "source": [
    "#3devlope a programw tofind the maximum two numbers using e list statment.\n",
    "\n",
    "def maximum(a,b):\n",
    "    if a>=b:\n",
    "        return a\n",
    "    else:\n",
    "        return b\n",
    "    \n",
    "a= 24\n",
    "b=67\n",
    "\n",
    "print(maximum(a,b))\n"
   ]
  },
  {
   "cell_type": "code",
   "execution_count": 3,
   "id": "8d88ec19-80e1-4187-b3ee-cadf974ff4ac",
   "metadata": {},
   "outputs": [
    {
     "name": "stdin",
     "output_type": "stream",
     "text": [
      "enter the year 2000\n"
     ]
    },
    {
     "name": "stdout",
     "output_type": "stream",
     "text": [
      "given year is leap year\n"
     ]
    }
   ],
   "source": [
    "#4 write a pythone script to classify a given year as leap year or not.\n",
    "\n",
    "def checkleap(year):\n",
    "    if((year%400==0)or\n",
    "      (year%100!=0)and\n",
    "      (year%4==0)):\n",
    "        print(\"given year is leap year\")\n",
    "    else:\n",
    "        print(\"year is not leap year\")\n",
    "year=int(input(\"enter the year\"))\n",
    "checkleap(year)\n",
    "      "
   ]
  },
  {
   "cell_type": "code",
   "execution_count": 5,
   "id": "308e408d-6801-417b-90ef-524c257032d0",
   "metadata": {},
   "outputs": [
    {
     "name": "stdin",
     "output_type": "stream",
     "text": [
      "enter a character: k\n"
     ]
    },
    {
     "name": "stdout",
     "output_type": "stream",
     "text": [
      "the character'k' is a consonant\n"
     ]
    }
   ],
   "source": [
    "#5creat a programme that checks weather a char is vowel or consonent .\n",
    "\n",
    "char= input(\"enter a character:\")\n",
    "vowles=['a','e','i','o','u','A','E','I','O','U']\n",
    "if char in vowles:\n",
    "    print(f\"character'{char}'is a vowel!\")\n",
    "else:\n",
    "    print(f\"the character'{char}' is a consonant\")\n"
   ]
  },
  {
   "cell_type": "code",
   "execution_count": 7,
   "id": "55203870-7fc3-4e2c-b6a4-1a760c2ddb61",
   "metadata": {},
   "outputs": [
    {
     "name": "stdin",
     "output_type": "stream",
     "text": [
      "enter any number to test even or odd: 89\n"
     ]
    },
    {
     "name": "stdout",
     "output_type": "stream",
     "text": [
      "the number is odd\n"
     ]
    }
   ],
   "source": [
    "#6 implement a progromme to determine weather a given nymber is even or odd.\n",
    "\n",
    "num= int(input(\"enter any number to test even or odd:\"))\n",
    "if(num%2)==0:\n",
    "    print(\"the number is even\")\n",
    "else:\n",
    "    print(\"the number is odd\")\n",
    "         "
   ]
  },
  {
   "cell_type": "code",
   "execution_count": 8,
   "id": "e9b149da-71af-4fc1-8bac-4de61d847ce6",
   "metadata": {},
   "outputs": [
    {
     "name": "stdout",
     "output_type": "stream",
     "text": [
      "-6.7\n",
      "None\n"
     ]
    }
   ],
   "source": [
    "# 7 write a pythone function to calculates the absolute value of number  without usin abs()function.\n",
    "def my_abs(value):\n",
    "    if value<5:\n",
    "        print(value*1)\n",
    "    else:\n",
    "        print(value *-1)\n",
    "print(my_abs(6.7))\n",
    "\n"
   ]
  },
  {
   "cell_type": "code",
   "execution_count": 10,
   "id": "ed634777-5951-418d-99cb-9a6f6bea4fb6",
   "metadata": {},
   "outputs": [
    {
     "name": "stdout",
     "output_type": "stream",
     "text": [
      "the largest number is: 78\n"
     ]
    }
   ],
   "source": [
    "#8 devlope a programme that determines the largest of three given numbers using if else statement.\n",
    "\n",
    "num1=10\n",
    "num2=34\n",
    "num3=78\n",
    "\n",
    "if (num1>= num2) and (num1 >=num3):\n",
    "    largest=num1\n",
    "elif (num2>=num1) and (num2>=num3):\n",
    "        largest=num2\n",
    "else:\n",
    "    largest=num3\n",
    "    \n",
    "print(\"the largest number is:\", largest)\n",
    "    "
   ]
  },
  {
   "cell_type": "code",
   "execution_count": 12,
   "id": "4c4c4dfd-9bb1-470e-8095-236c85b4e3db",
   "metadata": {},
   "outputs": [
    {
     "name": "stdin",
     "output_type": "stream",
     "text": [
      "enter the string to check if it is a palindrome: abcba\n"
     ]
    },
    {
     "name": "stdout",
     "output_type": "stream",
     "text": [
      "the string is a palindrome.\n"
     ]
    }
   ],
   "source": [
    "# 9 creat a programme to checks if a given string is palimdrome.\n",
    "\n",
    "x= input(\"enter the string to check if it is a palindrome:\")\n",
    "x=x.casefold()\n",
    "r=reversed(x)\n",
    "if list( x)==list(r):\n",
    "    print(\"the string is a palindrome.\")\n",
    "else:\n",
    "    print(\"the string is not palindrome.\")"
   ]
  },
  {
   "cell_type": "code",
   "execution_count": 1,
   "id": "74362c98-dba1-4924-847c-9cb85b45a632",
   "metadata": {},
   "outputs": [
    {
     "name": "stdin",
     "output_type": "stream",
     "text": [
      "enter the marks of first sub 85\n",
      "enter the markes of second sub 95\n",
      "enter the markes of third sub 99\n",
      "enter the markes of fourth sub 93\n",
      "enter the markes of fifth sub 100\n"
     ]
    },
    {
     "name": "stdout",
     "output_type": "stream",
     "text": [
      "grade:a\n"
     ]
    }
   ],
   "source": [
    "#10 write a python programme to calculates the grade based on a students score.\n",
    "\n",
    "sub1=int(input(\"enter the marks of first sub\"))\n",
    "sub2=int(input(\"enter the markes of second sub\"))\n",
    "sub3=int(input(\"enter the markes of third sub\"))\n",
    "sub4=int(input(\"enter the markes of fourth sub\"))\n",
    "sub5=int(input(\"enter the markes of fifth sub\"))\n",
    "avg=(sub1+sub2+sub3+sub4+sub5)/5\n",
    "\n",
    "if (avg>=90):\n",
    "    print(\"grade:a\")\n",
    "elif(avg>=80&avg<90):\n",
    "    print(\"grade:b\")\n",
    "elif(avg>=70&avg<80):\n",
    "    print(\"grade:c\")\n",
    "elif(avg>=60&avg<70):\n",
    "    print(\"grade:d\")\n",
    "else:\n",
    "    print(\"grade f:\")\n",
    "\n",
    "         "
   ]
  },
  {
   "cell_type": "code",
   "execution_count": 2,
   "id": "2c6dcaf3-cdb3-4840-8771-33241a5be925",
   "metadata": {},
   "outputs": [],
   "source": [
    "# nested if else statement:-"
   ]
  },
  {
   "cell_type": "code",
   "execution_count": 3,
   "id": "6de09117-4e37-491f-81fd-e3bae5cfa8cc",
   "metadata": {},
   "outputs": [
    {
     "name": "stdin",
     "output_type": "stream",
     "text": [
      "enter number one: 10\n",
      "enter number second: 20\n",
      "enter number third: 70\n"
     ]
    },
    {
     "name": "stdout",
     "output_type": "stream",
     "text": [
      "greater number= 70\n"
     ]
    }
   ],
   "source": [
    "#11write a programme to find the largest numbers using nested if else statment.\n",
    "a= int(input(\"enter number one:\"))\n",
    "b=int(input(\"enter number second:\"))\n",
    "c=int(input(\"enter number third:\"))\n",
    "\n",
    "\n",
    "if a >b:\n",
    "    if a>c:\n",
    "        g=a\n",
    "    else:\n",
    "        g=c\n",
    "else:\n",
    "    if b>c:\n",
    "        g=b\n",
    "    else:\n",
    "        g=c\n",
    "        \n",
    "print(\"greater number=\",g)\n",
    "            \n",
    "       "
   ]
  },
  {
   "cell_type": "code",
   "execution_count": 4,
   "id": "2b9b8620-82e3-4508-a7c5-39d2bb460a4d",
   "metadata": {},
   "outputs": [
    {
     "name": "stdout",
     "output_type": "stream",
     "text": [
      "scalene triangle\n"
     ]
    }
   ],
   "source": [
    "#12 implement to programme to determine if a tringle is equilatily and isosceles or scalene.\n",
    "\n",
    "def check_triangle(x,y,z):\n",
    "    \n",
    "    if x==y==z:\n",
    "        print(\"equilaterl tringle\")\n",
    "    elif x==y or y==z or z==x:\n",
    "        print(\"isosceles triangle\")\n",
    "    else:\n",
    "        print(\"scalene triangle\")\n",
    "\n",
    "#given sides of triangle\n",
    "x=7\n",
    "y=9\n",
    "z=5\n",
    "\n",
    "check_triangle(x,y,z)"
   ]
  },
  {
   "cell_type": "code",
   "execution_count": 25,
   "id": "e53f5731-caca-4f05-a1f1-926f074b0eb8",
   "metadata": {},
   "outputs": [
    {
     "name": "stdout",
     "output_type": "stream",
     "text": [
      "Leap Year\n"
     ]
    }
   ],
   "source": [
    "#13 devlope a programe and check if a year is aleap year and centuray year\n",
    "\n",
    "def checkYear(year):\n",
    "    \n",
    "    # Return true if year is a multiple\n",
    "    # of 4 and not multiple of 100.\n",
    "    # OR year is multiple of 400.\n",
    "    import calendar\n",
    "    return(calendar.isleap(year))\n",
    "    \n",
    "# Driver Code \n",
    "year = 2000\n",
    "if (checkYear(year)):\n",
    "    print(\"Leap Year\")\n",
    "else:\n",
    "    print(\"Not a Leap Year\")"
   ]
  },
  {
   "cell_type": "code",
   "execution_count": 1,
   "id": "a8c241ee-6b1a-4a22-8c69-9bd49e1d555f",
   "metadata": {},
   "outputs": [
    {
     "name": "stdin",
     "output_type": "stream",
     "text": [
      "enter a number: -70\n"
     ]
    },
    {
     "name": "stdout",
     "output_type": "stream",
     "text": [
      "number is nrgative\n"
     ]
    }
   ],
   "source": [
    "#14 write a pythone script to determine if a number is posetive aur negative or zero\n",
    "\n",
    "num= float(input(\"enter a number:\"))\n",
    "if num>0:\n",
    "    print(\"posetive number\")\n",
    "elif num==0:\n",
    "    print(\"number is equele to 0\")\n",
    "else:\n",
    "    print(\"number is nrgative\")\n",
    "    \n",
    "            "
   ]
  },
  {
   "cell_type": "code",
   "execution_count": 7,
   "id": "d6170e8d-6704-4897-98f6-c74357570739",
   "metadata": {},
   "outputs": [
    {
     "name": "stdin",
     "output_type": "stream",
     "text": [
      "enter the age: 17\n"
     ]
    },
    {
     "name": "stdout",
     "output_type": "stream",
     "text": [
      "the person is a teenage\n"
     ]
    }
   ],
   "source": [
    "#15 creat a programe to check if a person is tenegar or not.\n",
    "\n",
    "#teenage age =13-19\n",
    "\n",
    "age=int(input(\"enter the age:\"))\n",
    "\n",
    "if age >=13 and age<=19:\n",
    "    print(\"the person is a teenage\")\n",
    "else:\n",
    "    print(\"the person is not a teenge\")\n",
    "    "
   ]
  },
  {
   "cell_type": "code",
   "execution_count": 11,
   "id": "4b42290a-727a-46e7-8807-7d850c012659",
   "metadata": {},
   "outputs": [
    {
     "name": "stdout",
     "output_type": "stream",
     "text": [
      "acute tringle: 0\n",
      "right trinagle: 0\n",
      "obtuse triangle: 27\n"
     ]
    }
   ],
   "source": [
    "# 16 devlopes a programme that determines the angle of a tringle based on acute obtuse or right.\n",
    "\n",
    "def findtringle(a,n):\n",
    "    b=[]\n",
    "    for i in range(n):\n",
    "        b.append(a[i]*a[i])\n",
    "        \n",
    "    b.sort()\n",
    "    a.sort()\n",
    "    \n",
    "    x,y,z,=0,0,0\n",
    "    \n",
    "    for i in range(n):\n",
    "        p=i+1\n",
    "        q=i+1\n",
    "        for j in range(i+1,n):\n",
    "            while(p>n-1 and b[i]+b[j]>=b[p+1]):\n",
    "                p +=1\n",
    "            q=max(p,q)\n",
    "            while (q<n-1 and a[i]+a[j]>a[q+1]):\n",
    "                q+=1\n",
    "            if (b[i]+b[j]==b[p]):\n",
    "                x +=max(p-j-1,0)\n",
    "                y +=1\n",
    "                z +=q-p\n",
    "            else:\n",
    "                x+=max(p-j,0)\n",
    "                z+=q-p\n",
    "    print(\"acute tringle:\",x)\n",
    "    print(\"right trinagle:\",y)\n",
    "    print(\"obtuse triangle:\",z)\n",
    "if __name__==\"__main__\": \n",
    "    arr=[2,3,9,10,12,15]\n",
    "    n=len(arr)\n",
    "    findtringle(arr,n)\n",
    "            "
   ]
  },
  {
   "cell_type": "code",
   "execution_count": 2,
   "id": "e4c920b2-8300-4cb1-9502-04a724745836",
   "metadata": {},
   "outputs": [
    {
     "name": "stdin",
     "output_type": "stream",
     "text": [
      "enter a: 8\n",
      "enter b: 5\n",
      "enter c: 9\n"
     ]
    },
    {
     "name": "stdout",
     "output_type": "stream",
     "text": [
      "the soluation are (-0.3125-1.0135796712641785j) and (-0.3125+1.0135796712641785j)\n"
     ]
    }
   ],
   "source": [
    "# write a pythone programme to calcules the quadratic equation.\n",
    "\n",
    "import cmath\n",
    "\n",
    "a=float(input(\"enter a:\"))\n",
    "b=float(input(\"enter b:\"))\n",
    "c=float(input(\"enter c:\"))\n",
    "\n",
    "d=(b**2)-(4*a*c)\n",
    "\n",
    "sol1= (-b-cmath.sqrt(d))/(2*a)\n",
    "sol2=(-b+cmath.sqrt(d))/(2*a)\n",
    "\n",
    "print(\"the soluation are {0} and {1}\".format(sol1,sol2))"
   ]
  },
  {
   "cell_type": "code",
   "execution_count": 6,
   "id": "26c6f6ce-196b-496b-bab4-b321b0c349b8",
   "metadata": {},
   "outputs": [
    {
     "name": "stdin",
     "output_type": "stream",
     "text": [
      "enter weekday number(1-7): 7\n"
     ]
    },
    {
     "name": "stdout",
     "output_type": "stream",
     "text": [
      "\n",
      "sunday\n"
     ]
    }
   ],
   "source": [
    "#18 implement aprogramm to determine the day of the week beased on the year provided number.\n",
    "\n",
    "\n",
    "weekday= int(input(\"enter weekday number(1-7):\"))\n",
    "\n",
    "if weekday==1:\n",
    "    print(\"\\nmonday\")\n",
    "elif weekday==2:\n",
    "    print(\"\\ntuesday\")\n",
    "elif weekday==3:\n",
    "    print(\"\\nwednesday\")\n",
    "elif weekday==4:\n",
    "    print(\"\\nthursday\")\n",
    "elif weekday==5:\n",
    "    print(\"\\nfryday\")\n",
    "elif weekday==6:\n",
    "    print(\"\\nsaturday\")\n",
    "elif weekday==7:\n",
    "    print(\"\\nsunday\")\n",
    "else:\n",
    "    print(\"\\nenter any weekday number(1-7)\")"
   ]
  },
  {
   "cell_type": "code",
   "execution_count": 7,
   "id": "6ecfd3e1-3d40-4ed2-b8bd-c62c89fb70a4",
   "metadata": {},
   "outputs": [
    {
     "name": "stdin",
     "output_type": "stream",
     "text": [
      "enter the year to be checked: 2000\n"
     ]
    },
    {
     "name": "stdout",
     "output_type": "stream",
     "text": [
      "the year is leap year\n"
     ]
    }
   ],
   "source": [
    "#19 creat a programme that determines if a year is a leap year also if it is evenly disible 400.\n",
    "\n",
    "year=int(input(\"enter the year to be checked:\"))\n",
    "\n",
    "if (year%4==0 and year%100!=0 or year%400==0):\n",
    "    print(\"the year is leap year\")\n",
    "else:\n",
    "    print(\"the year is not leapyear\")\n",
    "    "
   ]
  },
  {
   "cell_type": "code",
   "execution_count": 13,
   "id": "c5d5b42b-5f9a-4cb7-9efa-832a12f0ab2d",
   "metadata": {},
   "outputs": [
    {
     "name": "stdin",
     "output_type": "stream",
     "text": [
      "enter a number: 67\n"
     ]
    }
   ],
   "source": [
    "#20devlope a programme that checks if a given number is prime or not using nested if else statement.\n",
    "num=29\n",
    "num=int(input(\"enter a number:\"))\n",
    "\n",
    "flag=False\n",
    "\n",
    "if num ==1:\n",
    "    print(num, \"its not a prime number\")\n",
    "elif num>1:\n",
    "    for i in range(2,num):\n",
    "        if(num%1)==0:\n",
    "            flag=True\n",
    "            break\n",
    "        if flag:\n",
    "            print(num, \"is not a prime number\")\n",
    "        else:\n",
    "            print(num, \"it is a prime number\")\n",
    "        "
   ]
  },
  {
   "cell_type": "code",
   "execution_count": 30,
   "id": "5593bd89-c2eb-4578-b909-aa4c0cbc6ef1",
   "metadata": {},
   "outputs": [
    {
     "name": "stdout",
     "output_type": "stream",
     "text": [
      "Enter Marks Obtained in 5 Subjects: \n"
     ]
    },
    {
     "name": "stdin",
     "output_type": "stream",
     "text": [
      " 78\n",
      " 89\n",
      " 90\n",
      " 67\n",
      " 90\n"
     ]
    },
    {
     "name": "stdout",
     "output_type": "stream",
     "text": [
      "Your Grade is A2\n"
     ]
    }
   ],
   "source": [
    "#21. Write a Python program to assign grades based on different ranges of scores using elif statements.\n",
    "print(\"Enter Marks Obtained in 5 Subjects: \")\n",
    "markOne = int(input())\n",
    "markTwo = int(input())\n",
    "markThree = int(input())\n",
    "markFour = int(input())\n",
    "markFive = int(input())\n",
    "\n",
    "tot = markOne+markTwo+markThree+markFour+markFive\n",
    "avg = tot/5\n",
    "\n",
    "if avg>=91 and avg<=100:\n",
    "    print(\"Your Grade is A1\")\n",
    "elif avg>=81 and avg<91:\n",
    "    print(\"Your Grade is A2\")\n",
    "elif avg>=71 and avg<81:\n",
    "    print(\"Your Grade is B1\")\n",
    "elif avg>=61 and avg<71:\n",
    "    print(\"Your Grade is B2\")\n",
    "elif avg>=51 and avg<61:\n",
    "    print(\"Your Grade is C1\")\n",
    "elif avg>=41 and avg<51:\n",
    "    print(\"Your Grade is C2\")\n",
    "elif avg>=33 and avg<41:\n",
    "    print(\"Your Grade is D\")\n",
    "elif avg>=21 and avg<33:\n",
    "    print(\"Your Grade is E1\")\n",
    "elif avg>=0 and avg<21:\n",
    "    print(\"Your Grade is E2\")\n",
    "else:\n",
    "    print(\"Invalid Input!\")"
   ]
  },
  {
   "cell_type": "code",
   "execution_count": 4,
   "id": "9860cf66-6cca-48ca-ab4c-82716197b7ba",
   "metadata": {},
   "outputs": [
    {
     "name": "stdin",
     "output_type": "stream",
     "text": [
      "Enter length of side a:  4\n",
      "Enter length of side b:  8\n",
      "Enter length of side c:  6\n"
     ]
    },
    {
     "name": "stdout",
     "output_type": "stream",
     "text": [
      "Triangle is Scalane\n"
     ]
    }
   ],
   "source": [
    "#22. Implement a program to determine the type of a triangle based on its angles.\n",
    "\n",
    "# Validity of Triangle given sides\n",
    "\n",
    "# Function definition to check validity\n",
    "def is_valid_triangle(a,b,c):\n",
    "    if a+b>=c and b+c>=a and c+a>=b:\n",
    "        return True\n",
    "    else:\n",
    "        return False\n",
    "\n",
    "# Function definition for type\n",
    "def type_of_triangle(a,b,c):\n",
    "    if a==b and b==c:\n",
    "        print('Triangle is Equilateral.')\n",
    "    elif a==b or b==c or a==c:\n",
    "        print('Triangle is Isosceles.')\n",
    "    else:\n",
    "        print('Triangle is Scalane')\n",
    "\n",
    "# Reading Three Sides\n",
    "side_a = float(input('Enter length of side a: '))\n",
    "side_b = float(input('Enter length of side b: '))\n",
    "side_c = float(input('Enter length of side c: '))\n",
    "\n",
    "# Function call & making decision\n",
    "if is_valid_triangle(side_a, side_b, side_c):\n",
    "    type_of_triangle(side_a, side_b, side_c)\n",
    "else:\n",
    "    print('Tringle is not possible from given sides.')\n"
   ]
  },
  {
   "cell_type": "code",
   "execution_count": 7,
   "id": "ce18a32f-128c-4cf6-83dd-6aa3fad10504",
   "metadata": {},
   "outputs": [
    {
     "name": "stdin",
     "output_type": "stream",
     "text": [
      "Enter your height in meters:  1.7\n",
      "Enter your Weight in Kg:  60\n"
     ]
    },
    {
     "name": "stdout",
     "output_type": "stream",
     "text": [
      "BMI Calculated is:   20.761245674740486\n",
      "Congrats! You are normal\n"
     ]
    }
   ],
   "source": [
    "# 23. Develop a program to categorize a given person's BMI into underweight, normal, overweight, or obese using elif statement\n",
    "\n",
    "\n",
    "\n",
    "h=float(input(\"Enter your height in meters: \"))\n",
    "w=float(input(\"Enter your Weight in Kg: \"))\n",
    " \n",
    "BMI=w/(h*h)\n",
    "print(\"BMI Calculated is:  \",BMI)\n",
    " \n",
    "if(BMI>0):\n",
    "    if(BMI<=16):\n",
    "        print(\"You are very underweight\")\n",
    "    elif(BMI<=18.5):\n",
    "        print(\"You are underweight\")\n",
    "    elif(BMI<=25):\n",
    "        print(\"Congrats! You are normal\")\n",
    "    elif(BMI<=30):\n",
    "        print(\"You are overweight\")\n",
    "    else: \n",
    "        print(\"You are very overweight\")\n",
    "else:\n",
    "    print(\"enter valid details\")\n",
    "\n"
   ]
  },
  {
   "cell_type": "code",
   "execution_count": 11,
   "id": "b46c14d7-5dfa-4e4a-8a2f-4ebe18bdb435",
   "metadata": {},
   "outputs": [
    {
     "name": "stdin",
     "output_type": "stream",
     "text": [
      "Enter the number: 78\n"
     ]
    },
    {
     "name": "stdout",
     "output_type": "stream",
     "text": [
      "The number provided is positive\n"
     ]
    }
   ],
   "source": [
    "#24. Create a program that determines whether a given number is positive, negative, or zero using elif statements.\n",
    "\n",
    "n = float (input (\"Enter the number:\"))\n",
    "if n > 0:\n",
    "    print (\"The number provided is positive\")\n",
    "\n",
    "elif n == 0:\n",
    "    print (\"The number input is zero\")\n",
    "\n",
    "else:\n",
    "    print (\"The number provided is negative\")\n",
    "\n",
    "\n"
   ]
  },
  {
   "cell_type": "code",
   "execution_count": 13,
   "id": "34774fb4-fdbc-4840-8e22-0e56dfea8c43",
   "metadata": {},
   "outputs": [
    {
     "name": "stdin",
     "output_type": "stream",
     "text": [
      "Enter any Character =  Subha@jit\n"
     ]
    },
    {
     "name": "stdout",
     "output_type": "stream",
     "text": [
      "It is a spacial character\n"
     ]
    }
   ],
   "source": [
    "# 25 Write a Python script to determine the type of a character (uppercase, lowercase, or special) using elif statements.\n",
    "ch = input('Enter any Character = ')\n",
    "\n",
    "if  ch.islower():\n",
    "    print('It is a Lowercase')\n",
    "elif ch.isupper():\n",
    "    print('It is a Uppercase')\n",
    "else:\n",
    "    print('It is a spacial character')"
   ]
  },
  {
   "cell_type": "code",
   "execution_count": 14,
   "id": "02bdccfd-cd49-4e34-bc2f-1689ba0c0f6c",
   "metadata": {},
   "outputs": [
    {
     "name": "stdin",
     "output_type": "stream",
     "text": [
      "Enter purchase amount  25678\n"
     ]
    },
    {
     "name": "stdout",
     "output_type": "stream",
     "text": [
      "Discount Amount = 1703.40\n",
      "Net Bill Amount = 23974.60\n"
     ]
    }
   ],
   "source": [
    "#26 Implement a program to calculate the discounted price based on different purchase amounts using elif statements.\n",
    "\n",
    "p=int(input('Enter purchase amount '))\n",
    "\n",
    "if p<=5000:\n",
    "    dis=0\n",
    "elif p>5000 and p<=10000:\n",
    "    dis=(p-5000)*(10/100.0)\n",
    "elif p>10000 and p<=20000:\n",
    "    dis=(p-10000)*(20/100.0)\n",
    "elif p>20000 and p<=30000:\n",
    "    dis=(p-20000)*(30/100.0)\n",
    "else:\n",
    "    dis=(p-30000)*(40/100.0)\n",
    "\n",
    "print('Discount Amount = {:.2f}'.format(dis))\n",
    "print('Net Bill Amount = {:.2f}'.format(p-dis))"
   ]
  },
  {
   "cell_type": "code",
   "execution_count": 15,
   "id": "17eefde5-7be6-43cc-929f-85b13e867c82",
   "metadata": {},
   "outputs": [
    {
     "name": "stdout",
     "output_type": "stream",
     "text": [
      "3500\n"
     ]
    }
   ],
   "source": [
    "#27 Develop a program to calculate the electricity bill based on different consumption slabs using elif statements.\n",
    "\n",
    "def calculateBill(units):\n",
    " \n",
    "    # Condition to find the charges\n",
    "    # bar in which the units consumed\n",
    "    # is fall\n",
    "    if (units <= 100):\n",
    "      \n",
    "        return units * 10;\n",
    "     \n",
    "    elif (units <= 200):\n",
    "     \n",
    "        return ((100 * 10) +\n",
    "                (units - 100) * 15);\n",
    "     \n",
    "    elif (units <= 300):\n",
    "      \n",
    "        return ((100 * 10) +\n",
    "                (100 * 15) +\n",
    "                (units - 200) * 20);\n",
    "     \n",
    "    elif (units > 300):\n",
    "     \n",
    "        return ((100 * 10) +\n",
    "                (100 * 15) +\n",
    "                (100 * 20) +\n",
    "                (units - 300) * 25);\n",
    "     \n",
    "    return 0;\n",
    " \n",
    "# Driver Code\n",
    "units = 250;\n",
    "print(calculateBill(units));\n",
    " "
   ]
  },
  {
   "cell_type": "code",
   "execution_count": 4,
   "id": "7efe8214-59d0-4573-b44e-16356e197325",
   "metadata": {},
   "outputs": [
    {
     "name": "stdout",
     "output_type": "stream",
     "text": [
      "The angles of the quadrilateral are A=150.26, B=29.74, C=157.38, and D=22.62 degrees.\n"
     ]
    }
   ],
   "source": [
    "#28 Create a program to determine the type of quadrilateral based on its angles and sides using elif stat\n",
    "\n",
    "# Python Equivalent\n",
    "import math\n",
    "\n",
    "# define the coordinates of the quadrilateral vertices\n",
    "AX = 0.0\n",
    "AY = 0.0\n",
    "BX = 1.0\n",
    "BY = 2.0\n",
    "CX = 4.0\n",
    "CY = 4.0\n",
    "DX = 2.0\n",
    "DY = 1.0\n",
    "\n",
    "# calculate the vectors AB, BC, and CD\n",
    "ab_x = BX - AX\n",
    "ab_y = BY - AY\n",
    "bc_x = CX - BX\n",
    "bc_y = CY - BY\n",
    "cd_x = DX - CX\n",
    "cd_y = DY - CY\n",
    "\n",
    "# calculate the dot products of vectors AB-BC and BC-CD\n",
    "dot_product_ab_bc = ab_x * bc_x + ab_y * bc_y\n",
    "dot_product_bc_cd = bc_x * cd_x + bc_y * cd_y\n",
    "\n",
    "# calculate the magnitudes of vectors AB, BC, and CD\n",
    "mag_ab = math.sqrt(ab_x * ab_x + ab_y * ab_y)\n",
    "mag_bc = math.sqrt(bc_x * bc_x + bc_y * bc_y)\n",
    "mag_cd = math.sqrt(cd_x * cd_x + cd_y * cd_y)\n",
    "\n",
    "# calculate the cosine of angles between vectors AB-BC and BC-CD using dot product formula\n",
    "cos_ab_bc = dot_product_ab_bc / (mag_ab * mag_bc)\n",
    "cos_bc_cd = dot_product_bc_cd / (mag_bc * mag_cd)\n",
    "\n",
    "# calculate the angles using inverse cosine function (arccos) and convert to degrees\n",
    "angle_a = math.acos(-cos_ab_bc) * 180 / math.pi\n",
    "angle_b = math.acos(cos_ab_bc) * 180 / math.pi\n",
    "angle_c = math.acos(cos_bc_cd) * 180 / math.pi\n",
    "angle_d = math.acos(-cos_bc_cd) * 180 / math.pi\n",
    "\n",
    "print(f\"The angles of the quadrilateral are A={angle_a:.2f}, B={angle_b:.2f}, C={angle_c:.2f}, and D={angle_d:.2f} degrees.\")\n"
   ]
  },
  {
   "cell_type": "code",
   "execution_count": 21,
   "id": "6cde71b3-88eb-4e4b-8af2-b4c32a7ab7e7",
   "metadata": {},
   "outputs": [
    {
     "name": "stdin",
     "output_type": "stream",
     "text": [
      "Input the month (e.g. January, February etc.):  april\n",
      "Input the day:  27\n"
     ]
    },
    {
     "name": "stdout",
     "output_type": "stream",
     "text": [
      "Season is autumn\n"
     ]
    }
   ],
   "source": [
    "#29 Write a Python script to determine the season based on a user-provided month using elif statements\n",
    "month = input(\"Input the month (e.g. January, February etc.): \")\n",
    "day = int(input(\"Input the day: \"))\n",
    "\n",
    "if month in ('January', 'February', 'March'):\n",
    "\tseason = 'winter'\n",
    "elif month in ('April', 'May', 'June'):\n",
    "\tseason = 'spring'\n",
    "elif month in ('July', 'August', 'September'):\n",
    "\tseason = 'summer'\n",
    "else:\n",
    "\tseason = 'autumn'\n",
    "\n",
    "if (month == 'March') and (day > 19):\n",
    "\tseason = 'spring'\n",
    "elif (month == 'June') and (day > 20):\n",
    "\tseason = 'summer'\n",
    "elif (month == 'September') and (day > 21):\n",
    "\tseason = 'autumn'\n",
    "elif (month == 'December') and (day > 20):\n",
    "\tseason = 'winter'\n",
    "\n",
    "print(\"Season is\",season)\n"
   ]
  },
  {
   "cell_type": "code",
   "execution_count": 23,
   "id": "0769d0aa-9889-4ac8-8400-5876cc22c460",
   "metadata": {},
   "outputs": [
    {
     "name": "stdin",
     "output_type": "stream",
     "text": [
      "type a year:  2001\n"
     ]
    },
    {
     "name": "stdout",
     "output_type": "stream",
     "text": [
      "you typed in : 2001\n"
     ]
    },
    {
     "name": "stdin",
     "output_type": "stream",
     "text": [
      "type a month:  feb\n"
     ]
    },
    {
     "name": "stdout",
     "output_type": "stream",
     "text": [
      "you typed in : feb\n",
      "is not a leap year\n",
      "is not a leap year\n",
      "invalid input\n",
      "is not a leap year\n"
     ]
    }
   ],
   "source": [
    "#29 Implement a program to determine the type of a year (leap or common) and month (30 or 31 days) usingelif statements.\n",
    "\n",
    "\n",
    "def cal(month):\n",
    "    if month in ['January', 'march','may','july','august','oct','dec']:\n",
    "       print (\"this month has 31 days\")\n",
    "    elif month in ['april','june','sept','nov']:\n",
    "       print (\"this month has 30 days\")\n",
    "    elif month == 'feb' and leap(year)== True:\n",
    "       print (\"this month has 29 days\")\n",
    "    elif month == 'feb' and leap(year) == False:\n",
    "        print (\"this month has 28 days\")\n",
    "    else:\n",
    "        print (\"invalid input\")   \n",
    "\n",
    "\n",
    "def leap(year):\n",
    "    if (year % 4== 0) or (year % 400 == 0):\n",
    "       print (\"its a leap year!\")\n",
    "    else: \n",
    "       print (\"is not a leap year\")\n",
    "\n",
    "year = int(input('type a year: '))\n",
    "print ('you typed in :' , year)\n",
    "month = str(input('type a month: '))\n",
    "print ('you typed in :', month)\n",
    "\n",
    "\n",
    "\n",
    "cal(month)\n",
    "leap(year) "
   ]
  },
  {
   "cell_type": "code",
   "execution_count": 27,
   "id": "2ce6638f-26d4-4eae-b31a-983f28b36f8c",
   "metadata": {},
   "outputs": [
    {
     "name": "stdout",
     "output_type": "stream",
     "text": [
      "Positive\n",
      "Equal to zero\n",
      "Negative\n"
     ]
    }
   ],
   "source": [
    "#Basic level\n",
    "\n",
    "#1. Write a Python program that checks if a given number is positive, negative, or zero.\n",
    "\n",
    "def check(n):\n",
    "     \n",
    "    # if the number is positive\n",
    "    if n > 0:\n",
    "        print(\"Positive\")\n",
    "         \n",
    "    # if the number is negative\n",
    "    elif n < 0:\n",
    "        print(\"Negative\")\n",
    "         \n",
    "    # if the number is equal to\n",
    "    # zero\n",
    "    else:\n",
    "        print(\"Equal to zero\")\n",
    "         \n",
    "# Driver Code\n",
    "check(5)\n",
    "check(0)\n",
    "check(-5)"
   ]
  },
  {
   "cell_type": "code",
   "execution_count": 28,
   "id": "088aeeef-6e75-499c-9c43-1188829a630f",
   "metadata": {},
   "outputs": [
    {
     "name": "stdin",
     "output_type": "stream",
     "text": [
      "Enter you age:  19\n"
     ]
    },
    {
     "name": "stdout",
     "output_type": "stream",
     "text": [
      "You are eligible to vote\n"
     ]
    }
   ],
   "source": [
    "#2Create a program to determine if a person is eligible to vote based on their age.\n",
    "age = int(input(\"Enter you age: \"))\n",
    "\n",
    "if age >= 18:\n",
    "    print(\"You are eligible to vote\")\n",
    "else:\n",
    "    print(\"You are not eligible to vote\")"
   ]
  },
  {
   "cell_type": "code",
   "execution_count": 29,
   "id": "56c953a7-5991-49ac-8a08-560d799cca96",
   "metadata": {},
   "outputs": [
    {
     "name": "stdin",
     "output_type": "stream",
     "text": [
      "Enter the first number:  67\n",
      "Enter the second number:  78\n"
     ]
    },
    {
     "name": "stdout",
     "output_type": "stream",
     "text": [
      "78 is greater\n"
     ]
    }
   ],
   "source": [
    "#3. Write a program to find the maximum of two given numbers using conditional staement.\n",
    "num1 = int(input(\"Enter the first number: \"))\n",
    "num2 = int(input(\"Enter the second number: \"))\n",
    "\n",
    "# printing the maximum value\n",
    "if(num1 > num2):\n",
    "  print(num1, \"is greater\")\n",
    "elif(num1 < num2):\n",
    "    print(num2, \"is greater\")\n",
    "else:\n",
    "    print(\"Both are equal\")"
   ]
  },
  {
   "cell_type": "code",
   "execution_count": 31,
   "id": "94b0794c-48ea-41ed-b93b-d7e690e675ae",
   "metadata": {},
   "outputs": [
    {
     "name": "stdout",
     "output_type": "stream",
     "text": [
      "Enter Marks Obtained in 5 Subjects: \n"
     ]
    },
    {
     "name": "stdin",
     "output_type": "stream",
     "text": [
      " 90\n",
      " 90\n",
      " 90\n",
      " 90\n",
      " 90\n"
     ]
    },
    {
     "name": "stdout",
     "output_type": "stream",
     "text": [
      "Your Grade is A2\n"
     ]
    }
   ],
   "source": [
    "#4 Develop a program that calculates the grade of a student based on their exam score.\n",
    "\n",
    "print(\"Enter Marks Obtained in 5 Subjects: \")\n",
    "markOne = int(input())\n",
    "markTwo = int(input())\n",
    "markThree = int(input())\n",
    "markFour = int(input())\n",
    "markFive = int(input())\n",
    "\n",
    "tot = markOne+markTwo+markThree+markFour+markFive\n",
    "avg = tot/5\n",
    "\n",
    "if avg>=91 and avg<=100:\n",
    "    print(\"Your Grade is A1\")\n",
    "elif avg>=81 and avg<91:\n",
    "    print(\"Your Grade is A2\")\n",
    "elif avg>=71 and avg<81:\n",
    "    print(\"Your Grade is B1\")\n",
    "elif avg>=61 and avg<71:\n",
    "    print(\"Your Grade is B2\")\n",
    "elif avg>=51 and avg<61:\n",
    "    print(\"Your Grade is C1\")\n",
    "elif avg>=41 and avg<51:\n",
    "    print(\"Your Grade is C2\")\n",
    "elif avg>=33 and avg<41:\n",
    "    print(\"Your Grade is D\")\n",
    "elif avg>=21 and avg<33:\n",
    "    print(\"Your Grade is E1\")\n",
    "elif avg>=0 and avg<21:\n",
    "    print(\"Your Grade is E2\")\n",
    "else:\n",
    "    print(\"Invalid Input!\")"
   ]
  },
  {
   "cell_type": "code",
   "execution_count": 35,
   "id": "5fe9310e-8d6a-4090-83ce-6e08145da81c",
   "metadata": {},
   "outputs": [
    {
     "name": "stdout",
     "output_type": "stream",
     "text": [
      "Leap Year\n"
     ]
    }
   ],
   "source": [
    "#5. Create a program that checks if a year is a leap year or not.\n",
    "year = 2000\n",
    "\n",
    "if (year%400 == 0) or (year%4==0 and year%100!=0):\n",
    "    print(\"Leap Year\")\n",
    "else:\n",
    "    print(\"Not a Leap Year\")\n"
   ]
  },
  {
   "cell_type": "code",
   "execution_count": 36,
   "id": "a2de7595-47fb-476c-bf67-64616464d245",
   "metadata": {},
   "outputs": [
    {
     "name": "stdin",
     "output_type": "stream",
     "text": [
      "Enter length of side a:  4\n",
      "Enter length of side b:  6\n",
      "Enter length of side c:  8\n"
     ]
    },
    {
     "name": "stdout",
     "output_type": "stream",
     "text": [
      "Triangle is Scalane\n"
     ]
    }
   ],
   "source": [
    "#6 Write a program to classify a triangle based on its sides' lengt\n",
    "def is_valid_triangle(a,b,c):\n",
    "    if a+b>=c and b+c>=a and c+a>=b:\n",
    "        return True\n",
    "    else:\n",
    "        return False\n",
    "\n",
    "# Function definition for type\n",
    "def type_of_triangle(a,b,c):\n",
    "    if a==b and b==c:\n",
    "        print('Triangle is Equilateral.')\n",
    "    elif a==b or b==c or a==c:\n",
    "        print('Triangle is Isosceles.')\n",
    "    else:\n",
    "        print('Triangle is Scalane')\n",
    "\n",
    "# Reading Three Sides\n",
    "side_a = float(input('Enter length of side a: '))\n",
    "side_b = float(input('Enter length of side b: '))\n",
    "side_c = float(input('Enter length of side c: '))\n",
    "\n",
    "# Function call & making decision\n",
    "if is_valid_triangle(side_a, side_b, side_c):\n",
    "    type_of_triangle(side_a, side_b, side_c)\n",
    "else:\n",
    "    print('Tringle is not possible from given sides.')\n"
   ]
  },
  {
   "cell_type": "code",
   "execution_count": 37,
   "id": "d6c20ee6-0648-4176-b03c-471d0b518fe5",
   "metadata": {},
   "outputs": [
    {
     "name": "stdout",
     "output_type": "stream",
     "text": [
      "12\n"
     ]
    }
   ],
   "source": [
    "#7Build a program that determines the largest of three given numbers.\n",
    "def max_of_three(a, b, c):\n",
    "   if a > b and a > c:\n",
    "      return a\n",
    "   elif b > c:\n",
    "      return b\n",
    "   else:\n",
    "      return c\n",
    "print(max_of_three(10, 12, 3))\n"
   ]
  },
  {
   "cell_type": "code",
   "execution_count": 38,
   "id": "f5758d23-460a-40e3-9522-43fba8677d06",
   "metadata": {},
   "outputs": [
    {
     "name": "stdout",
     "output_type": "stream",
     "text": [
      "Consonant\n",
      "Vowel\n"
     ]
    }
   ],
   "source": [
    "#8. Develop a program that checks whether a character is a vowel or a consonant.\n",
    "def vowelOrConsonant(x):\n",
    "  \n",
    "    if (x == 'a' or x == 'e' or\n",
    "        x == 'i' or x == 'o' or x == 'u'):\n",
    "        print(\"Vowel\")\n",
    "    else:\n",
    "        print(\"Consonant\")\n",
    "  \n",
    "# Driver code\n",
    "vowelOrConsonant('c')\n",
    "vowelOrConsonant('e')\n",
    "      "
   ]
  },
  {
   "cell_type": "code",
   "execution_count": 40,
   "id": "83feb354-9c56-4cda-b4b6-cc52f0784115",
   "metadata": {},
   "outputs": [
    {
     "name": "stdin",
     "output_type": "stream",
     "text": [
      "How much is the item:  56\n",
      "Next item:  67\n",
      "Next item:  89\n",
      "Next item:  90\n",
      "Next item:  56\n",
      "Next item:  77\n",
      "Next item:  87\n",
      "Next item:  89\n",
      "Next item:  90\n",
      "Next item:  34\n"
     ]
    },
    {
     "name": "stdout",
     "output_type": "stream",
     "text": [
      "Total price is 735\n"
     ]
    }
   ],
   "source": [
    "#9 Create a program to calculate the total cost of a shopping cart based on discounts.\n",
    "\n",
    "enter = int(input(\"How much is the item: \"))\n",
    "if enter != -1:enter2 = int(input(\"Next item: \"))\n",
    "if enter2 != -1:enter3 = int(input(\"Next item: \"))\n",
    "if enter3 != -1:enter4 = int(input(\"Next item: \"))\n",
    "if enter4 != -1:enter5 = int(input(\"Next item: \"))\n",
    "if enter5 != -1:enter6 = int(input(\"Next item: \"))\n",
    "if enter6 != -1:enter7 = int(input(\"Next item: \"))\n",
    "if enter7 != -1:enter8 = int(input(\"Next item: \"))\n",
    "if enter8 != -1:enter9 = int(input(\"Next item: \"))\n",
    "if enter9 != -1:enter10 = int(input(\"Next item: \"))\n",
    "total = enter  + enter2 + enter3 + enter4 + enter5 + enter6 + enter7 + enter8 + enter9 + enter10\n",
    "print(\"Total price is\", total)"
   ]
  },
  {
   "cell_type": "code",
   "execution_count": 41,
   "id": "3bf22a2f-e2c1-41d7-b9a0-316c3fee3b1a",
   "metadata": {},
   "outputs": [
    {
     "name": "stdout",
     "output_type": "stream",
     "text": [
      "Odd\n"
     ]
    }
   ],
   "source": [
    "#10 Write a program that checks if a given number is even or odd.\n",
    "def isEven(n):\n",
    "    return (n % 2 == 0)\n",
    "  \n",
    "  \n",
    "# Driver code\n",
    "n = 101\n",
    "print(\"Even\" if isEven(n) else \"Odd\")\n"
   ]
  },
  {
   "cell_type": "code",
   "execution_count": 42,
   "id": "622882bd-03e2-45dd-a985-9c4e2a60c0a2",
   "metadata": {},
   "outputs": [],
   "source": [
    "#intermediate level:-"
   ]
  },
  {
   "cell_type": "code",
   "execution_count": 43,
   "id": "e4acd00b-58f0-4a0a-9f43-ab5a173d1e8b",
   "metadata": {},
   "outputs": [
    {
     "name": "stdout",
     "output_type": "stream",
     "text": [
      "real and different roots\n",
      "2.0\n",
      "-12.0\n"
     ]
    }
   ],
   "source": [
    "#11. Write a program that calculates the roots of a quadratic equation\n",
    "import math\n",
    " \n",
    " \n",
    "# function for finding roots\n",
    "def equationroots( a, b, c):\n",
    " \n",
    "    # calculating discriminant using formula\n",
    "    dis = b * b - 4 * a * c\n",
    "    sqrt_val = math.sqrt(abs(dis))\n",
    "     \n",
    "    # checking condition for discriminant\n",
    "    if dis > 0:\n",
    "        print(\"real and different roots\")\n",
    "        print((-b + sqrt_val)/(2 * a))\n",
    "        print((-b - sqrt_val)/(2 * a))\n",
    "     \n",
    "    elif dis == 0:\n",
    "        print(\"real and same roots\")\n",
    "        print(-b / (2 * a))\n",
    "     \n",
    "    # when discriminant is less than 0\n",
    "    else:\n",
    "        print(\"Complex Roots\")\n",
    "        print(- b / (2 * a), + i, sqrt_val)\n",
    "        print(- b / (2 * a), - i, sqrt_val)\n",
    " \n",
    "# Driver Program\n",
    "a = 1\n",
    "b = 10\n",
    "c = -24\n",
    " \n",
    "# If a is 0, then incorrect equation\n",
    "if a == 0:\n",
    "        print(\"Input correct quadratic equation\")\n",
    " \n",
    "else:\n",
    "    equationroots(a, b, c)\n"
   ]
  },
  {
   "cell_type": "code",
   "execution_count": 47,
   "id": "6d4018de-e6ae-41d1-9b48-0ec9819d85af",
   "metadata": {},
   "outputs": [
    {
     "name": "stdout",
     "output_type": "stream",
     "text": [
      "Wednesday\n"
     ]
    }
   ],
   "source": [
    "#12. Create a program that determines the day of the week based on the day number (1-7).\n",
    "\n",
    "import datetime\n",
    "import calendar\n",
    " \n",
    "def findDay(date):\n",
    "    born = datetime.datetime.strptime(date, '%d %m %Y').weekday()\n",
    "    return (calendar.day_name[born])\n",
    " \n",
    "# Driver program\n",
    "date = '27 09 2023'\n",
    "print(findDay(date))"
   ]
  },
  {
   "cell_type": "code",
   "execution_count": 48,
   "id": "425b7305-db83-43bf-8ee2-bce9a4bdfaf6",
   "metadata": {},
   "outputs": [
    {
     "name": "stdout",
     "output_type": "stream",
     "text": [
      "number :  5\n",
      "Factorial :  120\n"
     ]
    }
   ],
   "source": [
    "#13. Develop a program that calculates the factorial of a given number using recursion.\n",
    "\n",
    "def factorial(n):\n",
    "     \n",
    "    # Checking the number\n",
    "    # is 1 or 0 then\n",
    "    # return 1\n",
    "    # other wise return\n",
    "    # factorial\n",
    "    if (n==1 or n==0):\n",
    "         \n",
    "        return 1\n",
    "     \n",
    "    else:\n",
    "         \n",
    "        return (n * factorial(n - 1))\n",
    " \n",
    "# Driver Code\n",
    "num = 5;\n",
    "print(\"number : \",num)\n",
    "print(\"Factorial : \",factorial(num))"
   ]
  },
  {
   "cell_type": "code",
   "execution_count": 49,
   "id": "36f3a46e-ed3d-46d0-b04e-74cc5f118999",
   "metadata": {},
   "outputs": [
    {
     "name": "stdout",
     "output_type": "stream",
     "text": [
      "The largest number is 14\n"
     ]
    }
   ],
   "source": [
    "#14. Write a program to find the largest among three numbers without using the `max()` function.\n",
    "num1 = 10\n",
    "num2 = 14\n",
    "num3 = 12\n",
    "\n",
    "# uncomment following lines to take three numbers from user\n",
    "#num1 = float(input(\"Enter first number: \"))\n",
    "#num2 = float(input(\"Enter second number: \"))\n",
    "#num3 = float(input(\"Enter third number: \"))\n",
    "\n",
    "if (num1 >= num2) and (num1 >= num3):\n",
    "   largest = num1\n",
    "elif (num2 >= num1) and (num2 >= num3):\n",
    "   largest = num2\n",
    "else:\n",
    "   largest = num3\n",
    "\n",
    "print(\"The largest number is\", largest)\n"
   ]
  },
  {
   "cell_type": "code",
   "execution_count": 8,
   "id": "c2694c94-9d2e-4366-b5f5-a7f37c73ec72",
   "metadata": {},
   "outputs": [
    {
     "name": "stdout",
     "output_type": "stream",
     "text": [
      "    ATM    \n",
      "\n",
      "1)        Balance\n",
      "2)        Withdraw\n",
      "3)        Deposit\n",
      "4)        Quit\n",
      "\n",
      "\n",
      "\n"
     ]
    },
    {
     "name": "stdin",
     "output_type": "stream",
     "text": [
      "Enter Option:  1\n"
     ]
    },
    {
     "name": "stdout",
     "output_type": "stream",
     "text": [
      "Balance  £  897.32\n"
     ]
    }
   ],
   "source": [
    "#15 15. Create a program that simulates a basic ATM transaction menu\n",
    "balance=897.32\n",
    "print(\"    ATM    \")\n",
    "print(\"\"\"\n",
    "1)        Balance\n",
    "2)        Withdraw\n",
    "3)        Deposit\n",
    "4)        Quit\n",
    "\n",
    "\n",
    "\"\"\")\n",
    "Option=int(input(\"Enter Option: \"))\n",
    "\n",
    "if Option==1:\n",
    "    print(\"Balance  £ \",balance)\n",
    "\n",
    "\n",
    "if Option==2:\n",
    "    print(\"Balance  £  \",balance)\n",
    "    Withdraw=float(input(\"Enter Withdraw amount £ \"))\n",
    "    if Withdraw>0:\n",
    "        forewardbalance=(balance-Withdraw)\n",
    "        print(\"Foreward Balance  £ \",forewardbalance)\n",
    "    elif Withdraw>balance:\n",
    "        print(\"No funs in account\")\n",
    "    else:\n",
    "        print(\"None withdraw made\")\n",
    "\n",
    "if Option==3:\n",
    "    print(\"Balance  £ \",balance)\n",
    "    Deposit=float(input(\"Enter deposit amount £ \"))\n",
    "    if Deposit>0:\n",
    "        forewardbalance=(balance+Deposit)\n",
    "        print(\"Forewardbalance  £ \",forewardbalance)\n",
    "    else:\n",
    "        print(\"None deposit made\")\n",
    "\n",
    "\n",
    "if Option==4:\n",
    "    exit()"
   ]
  },
  {
   "cell_type": "code",
   "execution_count": 1,
   "id": "180e21fa-aa4c-46b4-8cd0-8a7a64b5986e",
   "metadata": {},
   "outputs": [
    {
     "name": "stdout",
     "output_type": "stream",
     "text": [
      "Yes\n"
     ]
    }
   ],
   "source": [
    "#16. Build a program that checks if a given string is a palindrome or not.\n",
    "\n",
    "def isPalindrome(s):\n",
    "    return s == s[::-1]\n",
    " \n",
    " \n",
    "# Driver code\n",
    "s = \"malayalam\"\n",
    "ans = isPalindrome(s)\n",
    " \n",
    "if ans:\n",
    "    print(\"Yes\")\n",
    "else:\n",
    "    print(\"No\")"
   ]
  },
  {
   "cell_type": "code",
   "execution_count": 2,
   "id": "07db9cb6-e820-429b-9d8f-84b124a39f8a",
   "metadata": {},
   "outputs": [
    {
     "name": "stdout",
     "output_type": "stream",
     "text": [
      "Average of the list = 35.75\n"
     ]
    }
   ],
   "source": [
    "#17. Write a program that calculates the average of a list of numbers, excluding the smallest and largest values.\n",
    "\n",
    "def Average(lst):\n",
    "    return sum(lst) / len(lst)\n",
    " \n",
    "# Driver Code\n",
    "lst = [15, 9, 55, 41, 35, 20, 62, 49]\n",
    "average = Average(lst)\n",
    " \n",
    "# Printing average of the list\n",
    "print(\"Average of the list =\", round(average, 2))"
   ]
  },
  {
   "cell_type": "code",
   "execution_count": 4,
   "id": "6171c2e0-d381-430e-9e56-62fc1749531e",
   "metadata": {},
   "outputs": [
    {
     "name": "stdout",
     "output_type": "stream",
     "text": [
      "37.5 degree Celsius is equal to 99.5 degree Fahrenheit\n"
     ]
    }
   ],
   "source": [
    "#17,Develop a program that converts a given temperature from Celsius to faranhit.\n",
    "\n",
    "\n",
    "# Python Program to convert temperature in celsius to fahrenheit\n",
    "\n",
    "# change this value for a different result\n",
    "celsius = 37.5\n",
    "\n",
    "# calculate fahrenheit\n",
    "fahrenheit = (celsius * 1.8) + 32\n",
    "print('%0.1f degree Celsius is equal to %0.1f degree Fahrenheit' %(celsius,fahrenheit))\n"
   ]
  },
  {
   "cell_type": "code",
   "execution_count": 6,
   "id": "ebc1758b-4343-45bf-8b25-e6c557ea3862",
   "metadata": {},
   "outputs": [
    {
     "name": "stdout",
     "output_type": "stream",
     "text": [
      "Enter '+' to add two numbers\n",
      "Enter '-' to subtract two numbers\n",
      "Enter '*' to multiply two numbers\n",
      "Enter '/' to divide two numbers\n",
      "Enter 'quit' to end the program\n"
     ]
    },
    {
     "name": "stdin",
     "output_type": "stream",
     "text": [
      ":  *\n",
      "Enter a number:  7\n",
      "Enter another number:  7\n"
     ]
    },
    {
     "name": "stdout",
     "output_type": "stream",
     "text": [
      "7.0 * 7.0 = 49.0\n",
      "Enter '+' to add two numbers\n",
      "Enter '-' to subtract two numbers\n",
      "Enter '*' to multiply two numbers\n",
      "Enter '/' to divide two numbers\n",
      "Enter 'quit' to end the program\n"
     ]
    },
    {
     "name": "stdin",
     "output_type": "stream",
     "text": [
      ":  quit\n"
     ]
    }
   ],
   "source": [
    "#19. Create a program that simulates a basic calculator for addition, subtraction, multiplication, and division.\n",
    "\n",
    "def calculator():\n",
    "    while True:\n",
    "        # Print options for the user\n",
    "        print(\"Enter '+' to add two numbers\")\n",
    "        print(\"Enter '-' to subtract two numbers\")\n",
    "        print(\"Enter '*' to multiply two numbers\")\n",
    "        print(\"Enter '/' to divide two numbers\")\n",
    "        print(\"Enter 'quit' to end the program\")\n",
    "        \n",
    "        # Get user input\n",
    "        user_input = input(\": \")\n",
    "\n",
    "        # Check if the user wants to quit\n",
    "        if user_input == \"quit\":\n",
    "            break\n",
    "        # Check if the user input is a valid operator\n",
    "        elif user_input in [\"+\", \"-\", \"*\", \"/\"]:\n",
    "            # Get first number\n",
    "            num1 = float(input(\"Enter a number: \"))\n",
    "            # Get second number\n",
    "            num2 = float(input(\"Enter another number: \"))\n",
    "\n",
    "            # Perform the operation based on the user input\n",
    "            if user_input == \"+\":\n",
    "                result = num1 + num2\n",
    "                print(num1, \"+\", num2, \"=\", result)\n",
    "\n",
    "            elif user_input == \"-\":\n",
    "                result = num1 - num2\n",
    "                print(num1, \"-\", num2, \"=\", result)\n",
    "\n",
    "            elif user_input == \"*\":\n",
    "                result = num1 * num2\n",
    "                print(num1, \"*\", num2, \"=\", result)\n",
    "\n",
    "            elif user_input == \"/\":\n",
    "                result = num1 / num2\n",
    "                print(num1, \"/\", num2, \"=\", result)\n",
    "        else:\n",
    "            # In case of invalid input\n",
    "            print(\"Invalid Input\")\n",
    "\n",
    "# Call the calculator function to start the program\n",
    "calculator()\n",
    "\n",
    "\n",
    "\n"
   ]
  },
  {
   "cell_type": "code",
   "execution_count": null,
   "id": "20f575ce-45d8-4359-9a9c-e1f99d50eefb",
   "metadata": {},
   "outputs": [],
   "source": [
    "#20. Write a program that determines the roots of a cubic equation using the Cardano formula.\n",
    "\n"
   ]
  },
  {
   "cell_type": "code",
   "execution_count": 12,
   "id": "266fd308-7983-4c10-8ef4-4de0b239c52d",
   "metadata": {},
   "outputs": [
    {
     "name": "stdin",
     "output_type": "stream",
     "text": [
      "Enter full name:  subhajit\n",
      "Please enter social (###-##-####):  5000000\n",
      "Please enter income:  25000\n"
     ]
    },
    {
     "name": "stdout",
     "output_type": "stream",
     "text": [
      "Please enter a valid Social Security Number!\n"
     ]
    }
   ],
   "source": [
    "#21. Create a program that calculates the income tax based on the user's income and tax brackets.\n",
    "\n",
    "def main():\n",
    "    name = input(\"Enter full name: \")\n",
    "    ssn = input(\"Please enter social (###-##-####): \")\n",
    "    income = eval(input(\"Please enter income: \"))\n",
    "\n",
    "    ssn = ssn.split(\"-\")\n",
    "    tax = 0.0\n",
    "\n",
    "    if income >= 30000:\n",
    "        tax = ((income - 30000) * .1) + (15000 * .05)\n",
    "        income = income - tax\n",
    "    elif income >= 15000:\n",
    "        tax = (income - 15000) * .05\n",
    "        income = income - tax\n",
    "    elif income >= 0:\n",
    "        income = income\n",
    "    else:\n",
    "        print(\"Please enter a valid income of more than $0!\")\n",
    "\n",
    "    if list(map(len,ssn)) != [3,2,4]: \n",
    "        print(\"Please enter a valid Social Security Number!\")\n",
    "    else:\n",
    "        print(\"\\nYour name:\",name)\n",
    "        print(\"Your SSN: \",ssn)\n",
    "        print(\"Amount you will pay in tax: $\",tax)\n",
    "        print(\"Amount you will have after tax: $\",income)\n",
    "\n",
    "main()"
   ]
  },
  {
   "cell_type": "code",
   "execution_count": 13,
   "id": "8a0f0ad3-e595-404a-b16d-163cbaadeaac",
   "metadata": {},
   "outputs": [
    {
     "name": "stdin",
     "output_type": "stream",
     "text": [
      "Enter a choice (rock, paper, scissors):  rock\n"
     ]
    },
    {
     "name": "stdout",
     "output_type": "stream",
     "text": [
      "\n",
      "You chose rock, computer chose rock.\n",
      "\n",
      "Both players selected rock. It's a tie!\n"
     ]
    }
   ],
   "source": [
    "#22. Write a program that simulates a rock-paper-scissors game against the computer.\n",
    "import random\n",
    "\n",
    "user_action = input(\"Enter a choice (rock, paper, scissors): \")\n",
    "possible_actions = [\"rock\", \"paper\", \"scissors\"]\n",
    "computer_action = random.choice(possible_actions)\n",
    "print(f\"\\nYou chose {user_action}, computer chose {computer_action}.\\n\")\n",
    "\n",
    "if user_action == computer_action:\n",
    "    print(f\"Both players selected {user_action}. It's a tie!\")\n",
    "elif user_action == \"rock\":\n",
    "    if computer_action == \"scissors\":\n",
    "        print(\"Rock smashes scissors! You win!\")\n",
    "    else:\n",
    "        print(\"Paper covers rock! You lose.\")\n",
    "elif user_action == \"paper\":\n",
    "    if computer_action == \"rock\":\n",
    "        print(\"Paper covers rock! You win!\")\n",
    "    else:\n",
    "        print(\"Scissors cuts paper! You lose.\")\n",
    "elif user_action == \"scissors\":\n",
    "    if computer_action == \"paper\":\n",
    "        print(\"Scissors cuts paper! You win!\")\n",
    "    else:\n",
    "        print(\"Rock smashes scissors! You lose.\")"
   ]
  },
  {
   "cell_type": "code",
   "execution_count": 14,
   "id": "d2981e50-7062-47e5-a359-8017bbaee69a",
   "metadata": {},
   "outputs": [
    {
     "name": "stdin",
     "output_type": "stream",
     "text": [
      "Enter password length:  10\n"
     ]
    },
    {
     "name": "stdout",
     "output_type": "stream",
     "text": [
      "Choose character set for password from these :\n",
      "         1. Digits\n",
      "         2. Letters\n",
      "         3. Special characters\n",
      "         4. Exit\n"
     ]
    },
    {
     "name": "stdin",
     "output_type": "stream",
     "text": [
      "Pick a number  1\n",
      "Pick a number  4\n"
     ]
    },
    {
     "name": "stdout",
     "output_type": "stream",
     "text": [
      "The random password is CBuztDLGWd\n"
     ]
    }
   ],
   "source": [
    "#23. Develop a program that generates a random password based on user preferences (length, complexity).\n",
    "import string\n",
    "import random\n",
    " \n",
    "# Getting password length\n",
    "length = int(input(\"Enter password length: \"))\n",
    " \n",
    "print('''Choose character set for password from these :\n",
    "         1. Digits\n",
    "         2. Letters\n",
    "         3. Special characters\n",
    "         4. Exit''')\n",
    " \n",
    "characterList = \"\"\n",
    " \n",
    "# Getting character set for password\n",
    "while(True):\n",
    "    choice = int(input(\"Pick a number \"))\n",
    "    if(choice == 1):\n",
    "         \n",
    "        # Adding letters to possible characters\n",
    "        characterList += string.ascii_letters\n",
    "    elif(choice == 2):\n",
    "         \n",
    "        # Adding digits to possible characters\n",
    "        characterList += string.digits\n",
    "    elif(choice == 3):\n",
    "         \n",
    "        # Adding special characters to possible\n",
    "        # characters\n",
    "        characterList += string.punctuation\n",
    "    elif(choice == 4):\n",
    "        break\n",
    "    else:\n",
    "        print(\"Please pick a valid option!\")\n",
    " \n",
    "password = []\n",
    " \n",
    "for i in range(length):\n",
    "   \n",
    "    # Picking a random character from our\n",
    "    # character list\n",
    "    randomchar = random.choice(characterList)\n",
    "     \n",
    "    # appending a random character to password\n",
    "    password.append(randomchar)\n",
    " \n",
    "# printing password as a string\n",
    "print(\"The random password is \" + \"\".join(password))"
   ]
  },
  {
   "cell_type": "code",
   "execution_count": 17,
   "id": "49245292-1645-4945-ae6c-9ae4a28f4716",
   "metadata": {},
   "outputs": [
    {
     "name": "stdout",
     "output_type": "stream",
     "text": [
      "Welcome to the Wizard game, reach the bedroom to win. To move type: go North, go East, go West, go South\n",
      "You are in the Great Hall.\n"
     ]
    },
    {
     "name": "stdin",
     "output_type": "stream",
     "text": [
      "\n",
      "What do you wish to do? go south\n"
     ]
    },
    {
     "name": "stdout",
     "output_type": "stream",
     "text": [
      "Invalid input\n",
      "You are in the Great Hall.\n"
     ]
    },
    {
     "name": "stdin",
     "output_type": "stream",
     "text": [
      "\n",
      "What do you wish to do? go north\n"
     ]
    },
    {
     "name": "stdout",
     "output_type": "stream",
     "text": [
      "Invalid input\n",
      "You are in the Great Hall.\n"
     ]
    },
    {
     "name": "stdin",
     "output_type": "stream",
     "text": [
      "\n",
      "What do you wish to do? exit\n"
     ]
    },
    {
     "name": "stdout",
     "output_type": "stream",
     "text": [
      "Thanks for playing!\n"
     ]
    }
   ],
   "source": [
    "#24. Create a program that implements a simple text-based adventure game with branching scenarios.\n",
    "rooms = {\n",
    "        'Great Hall': {'South': 'Bedroom'},\n",
    "        'Bedroom': {'North': 'Great Hall', 'East': 'Cellar'},\n",
    "        'Cellar': {'West': 'Bedroom'}\n",
    "    }\n",
    "instructions = 'Welcome to the Wizard game, reach the bedroom to win. To move type: go North, go East, go West, go South'\n",
    "directions = ['go North', 'go South', 'go East', 'go West']\n",
    "print(instructions)\n",
    "while True:\n",
    "    current_room = 'Great Hall'\n",
    "    if current_room == 'Bedroom':\n",
    "        print('Congratulations! You have reached the Bedroom and defeated the Wizard!')\n",
    "        break\n",
    "    # displays the players current location\n",
    "    print('You are in the {}.'.format(current_room))\n",
    "\n",
    "    # gets the users input\n",
    "    command = input('\\nWhat do you wish to do?')\n",
    "    # this controls the movement\n",
    "    if command in directions:\n",
    "        if command in current_room:\n",
    "            current_room = command.split(\"\")\n",
    "        else:\n",
    "            # if the player inputs a bad movement\n",
    "            print('You cant go that way!')\n",
    "    # checks to see if the player quits the game\n",
    "    elif command == 'exit':\n",
    "        print('Thanks for playing!')\n",
    "        break\n",
    "    # invalid command\n",
    "    else:\n",
    "        print('Invalid input')"
   ]
  },
  {
   "cell_type": "code",
   "execution_count": 18,
   "id": "b98336ff-eab6-4fc9-95e6-d9e6c0763a0c",
   "metadata": {},
   "outputs": [
    {
     "name": "stdout",
     "output_type": "stream",
     "text": [
      "Equation 1:\n",
      "Eq(x + y + z, 1)\n",
      "Equation 2\n",
      "Eq(x - y + 2*z, 1)\n",
      "Equation 3\n",
      "Values of 3 unknown variable are as follows:\n",
      "{x: 0, y: 1/3, z: 2/3}\n"
     ]
    }
   ],
   "source": [
    "#25. Build a program that solves a linear equation for x, considering different cases\n",
    "\n",
    "from sympy import symbols, Eq, solve\n",
    "  \n",
    "# defining symbols used in equations\n",
    "# or unknown variables\n",
    "x, y, z = symbols('x,y,z')\n",
    "  \n",
    "# defining equations\n",
    "eq1 = Eq((x+y+z), 1)\n",
    "print(\"Equation 1:\")\n",
    "print(eq1)\n",
    "  \n",
    "eq2 = Eq((x-y+2*z), 1)\n",
    "print(\"Equation 2\")\n",
    "print(eq2)\n",
    "  \n",
    "eq3 = Eq((2*x-y+2*z), 1)\n",
    "print(\"Equation 3\")\n",
    "  \n",
    "# solving the equation and printing the \n",
    "# value of unknown variables\n",
    "print(\"Values of 3 unknown variable are as follows:\")\n",
    "print(solve((eq1, eq2, eq3), (x, y, z)))"
   ]
  },
  {
   "cell_type": "code",
   "execution_count": 2,
   "id": "4059e614-27fd-4e78-841b-6a9ea29a076b",
   "metadata": {},
   "outputs": [
    {
     "name": "stdout",
     "output_type": "stream",
     "text": [
      "Wellcome to quiz game !!\n",
      "NOTE: if your spelling is incorrect then it is considered as wrong answer\n"
     ]
    },
    {
     "name": "stdin",
     "output_type": "stream",
     "text": [
      "Do you want to play ?  yes\n",
      "\n",
      "1. what does CPU stand for?  central processing unit\n"
     ]
    },
    {
     "name": "stdout",
     "output_type": "stream",
     "text": [
      "correct! you got 1 point\n"
     ]
    },
    {
     "name": "stdin",
     "output_type": "stream",
     "text": [
      "\n",
      "2. what does GPU stand for?  graphics processing unit\n"
     ]
    },
    {
     "name": "stdout",
     "output_type": "stream",
     "text": [
      "correct! you got 1 point\n"
     ]
    },
    {
     "name": "stdin",
     "output_type": "stream",
     "text": [
      "\n",
      "3. what does RAM stand for?   random access memory\n"
     ]
    },
    {
     "name": "stdout",
     "output_type": "stream",
     "text": [
      "Incorrect!\n",
      "current answer is --> random access memory\n"
     ]
    },
    {
     "name": "stdin",
     "output_type": "stream",
     "text": [
      "\n",
      "4. what does PSU stand for?   power supply unit\n"
     ]
    },
    {
     "name": "stdout",
     "output_type": "stream",
     "text": [
      "Incorrect!\n",
      "current answer is --> power supply unit\n"
     ]
    },
    {
     "name": "stdin",
     "output_type": "stream",
     "text": [
      "\n",
      "5. what does ROM stand for?  read only memory\n"
     ]
    },
    {
     "name": "stdout",
     "output_type": "stream",
     "text": [
      "correct! you got 1 point\n",
      "\n",
      "number of question is 5\n",
      "your score is 3\n",
      "60.0% questions are correct.\n"
     ]
    }
   ],
   "source": [
    "#26. Write a program that simulates a basic quiz game with multiple-choice questions and scoring.\n",
    "print(\"Wellcome to quiz game !!\")\n",
    "print('NOTE: if your spelling is incorrect then it is considered as wrong answer')\n",
    "score = 0\n",
    "question_no = 0\n",
    "playing = input('Do you want to play ? ').lower()\n",
    "if playing == 'yes':\n",
    "    question_no += 1\n",
    "    ques = input(f'\\n{question_no}. what does CPU stand for? ').lower()\n",
    "    if ques == 'central processing unit':\n",
    "        score +=1\n",
    "        print('correct! you got 1 point')\n",
    "        \n",
    "    else:\n",
    "        print('Incorrect!')\n",
    "        print(f'current answer is --> central processing unit')\n",
    "\n",
    "# ------1\n",
    "    question_no += 1\n",
    "    ques = input(f'\\n{question_no}. what does GPU stand for? ').lower()\n",
    "    \n",
    "    if ques == 'graphics processing unit':\n",
    "        score +=1\n",
    "        print('correct! you got 1 point')\n",
    "        \n",
    "    else:\n",
    "        print('Incorrect!')\n",
    "        print(f'current answer is --> graphics processing unit')\n",
    "\n",
    "# -----2\n",
    "    question_no += 1\n",
    "    ques = input(f'\\n{question_no}. what does RAM stand for? ').lower()\n",
    "    \n",
    "    if ques == 'random access memory':\n",
    "        score +=1\n",
    "        print('correct! you got 1 point')\n",
    "        \n",
    "    else:\n",
    "        print('Incorrect!')\n",
    "        print(f'current answer is --> random access memory')\n",
    "\n",
    "# -----3\n",
    "    question_no += 1\n",
    "    ques = input(f'\\n{question_no}. what does PSU stand for? ').lower()\n",
    "    \n",
    "    if ques == 'power supply unit':\n",
    "        score +=1\n",
    "        print('correct! you got 1 point')\n",
    "        \n",
    "    else:\n",
    "        print('Incorrect!')\n",
    "        print(f'current answer is --> power supply unit')\n",
    "\n",
    "\n",
    "# -----4\n",
    "    question_no += 1\n",
    "    ques = input(f'\\n{question_no}. what does ROM stand for? ').lower()\n",
    "    \n",
    "    if ques == 'read only memory':\n",
    "        score +=1\n",
    "        print('correct! you got 1 point')\n",
    "        \n",
    "    else:\n",
    "        print('Incorrect!')\n",
    "        print(f'current answer is --> read only memory')\n",
    "\n",
    "\n",
    "# ------5 \n",
    "\n",
    "else:\n",
    "    print('thankyou you are out of a game.')\n",
    "    quit()\n",
    "\n",
    "print(f'\\nnumber of question is {question_no}')\n",
    "print(f'your score is {score}')\n",
    "try:\n",
    "    percentage = (score *100)/question_no\n",
    "except ZeroDivisionError:\n",
    "    print('0% quetions are correct')\n",
    "\n",
    "print(f'{percentage}% questions are correct.')"
   ]
  },
  {
   "cell_type": "code",
   "execution_count": 3,
   "id": "befbc30e-f16f-4e3b-a50b-fcefe38cc377",
   "metadata": {},
   "outputs": [
    {
     "name": "stdin",
     "output_type": "stream",
     "text": [
      "Enter any year:  2000\n"
     ]
    },
    {
     "name": "stdout",
     "output_type": "stream",
     "text": [
      "2000 is not a prime year\n"
     ]
    }
   ],
   "source": [
    "#27. Develop a program that determines whether a given year is a prime number or not.\n",
    "\n",
    "year = int(input(\"Enter any year: \"))\n",
    "\n",
    "# prime number is always greater than 1\n",
    "if year > 1:\n",
    "    for i in range(2, year):\n",
    "        if (year % i) == 0:\n",
    "            print(year, \"is not a prime year\")\n",
    "            break\n",
    "    else:\n",
    "        print(year, \"is a year\")\n",
    "\n",
    "# if the entered number is less than or equal to 1\n",
    "# then it is not prime number\n",
    "else:\n",
    "    print(year, \"is not a prime year\")"
   ]
  },
  {
   "cell_type": "code",
   "execution_count": 4,
   "id": "1a12af5d-7bc0-42b5-a3ac-f595c67eb930",
   "metadata": {},
   "outputs": [
    {
     "name": "stdin",
     "output_type": "stream",
     "text": [
      "Enter a:  12\n",
      "Enter b:  23\n",
      "Enter c:  32\n"
     ]
    },
    {
     "name": "stdout",
     "output_type": "stream",
     "text": [
      "12.0 < 23.0 < 32.0\n"
     ]
    }
   ],
   "source": [
    "#28. Create a program that sorts three numbers in ascending order using conditional statements.\n",
    "a = float(input(\"Enter a: \"))\n",
    "b = float(input(\"Enter b: \"))\n",
    "c = float(input(\"Enter c: \"))\n",
    "if a < b:\n",
    "    if b < c:\n",
    "        print (a, \"<\", b, \"<\", c)\n",
    "    else:\n",
    "        if a < c:\n",
    "            print (a, \"<\", c, \"<\", b)\n",
    "        else:\n",
    "            print (c, \"<\", a, \"<\", b)\n",
    "else:\n",
    "    if c < b:\n",
    "        print (c, \"<\", b, \"<\", a)\n",
    "    else:\n",
    "        if c < a:\n",
    "            print (b, \"<\", c, \"<\", a)\n",
    "        else:\n",
    "            print (b, \"<\", a, \"<\", c)"
   ]
  },
  {
   "cell_type": "code",
   "execution_count": 5,
   "id": "1cfd6383-868f-440f-af90-498ef7900726",
   "metadata": {},
   "outputs": [
    {
     "name": "stdout",
     "output_type": "stream",
     "text": [
      "Roots are real and different \n",
      "4.0\n",
      "3.0\n"
     ]
    }
   ],
   "source": [
    "#29. Build a program that determines the roots of a quartic equation using numerical methods.\n",
    "\n",
    "# Python program to find roots\n",
    "# of a quadratic equation\n",
    "import math\n",
    " \n",
    "# Prints roots of quadratic equation\n",
    "# ax*2 + bx + x\n",
    "def findRoots(a, b, c):\n",
    " \n",
    "    # If a is 0, then equation is\n",
    "    # not quadratic, but linear\n",
    "    if a == 0:\n",
    "        print(\"Invalid\")\n",
    "        return -1\n",
    "    d = b * b - 4 * a * c\n",
    "    sqrt_val = math.sqrt(abs(d))\n",
    " \n",
    "    if d > 0:\n",
    "        print(\"Roots are real and different \")\n",
    "        print((-b + sqrt_val)/(2 * a))\n",
    "        print((-b - sqrt_val)/(2 * a))\n",
    "    elif d == 0:\n",
    "        print(\"Roots are real and same\")\n",
    "        print(-b / (2*a))\n",
    "    else:  # d<0\n",
    "        print(\"Roots are complex\")\n",
    "        print(- b / (2*a), \" + i\", sqrt_val / (2 * a))\n",
    "        print(- b / (2*a), \" - i\", sqrt_val / (2 * a))\n",
    " \n",
    " \n",
    "# Driver Program\n",
    "if __name__ == '__main__':\n",
    "    a = 1\n",
    "    b = -7\n",
    "    c = 12\n",
    "     \n",
    "    # Function call\n",
    "    findRoots(a, b, c)"
   ]
  },
  {
   "cell_type": "code",
   "execution_count": 6,
   "id": "7939cc2d-7f2b-48b0-ba15-15a78354e69b",
   "metadata": {},
   "outputs": [
    {
     "name": "stdout",
     "output_type": "stream",
     "text": [
      "The BMI is 21.64532402096181 so Healthy\n"
     ]
    }
   ],
   "source": [
    "#30. Write a program that calculates the BMI (Body Mass Index) and provides health recommendations basedon the user's input.\n",
    "#Python program to illustrate \n",
    "# how to calculate BMI\n",
    "def BMI(height, weight):\n",
    "    bmi = weight/(height**2)\n",
    "    return bmi\n",
    "  \n",
    "# Driver code\n",
    "height = 1.79832\n",
    "weight = 70\n",
    "  \n",
    "# calling the BMI function\n",
    "bmi = BMI(height, weight)\n",
    "print(\"The BMI is\", format(bmi), \"so \", end='')\n",
    "  \n",
    "# Conditions to find out BMI category\n",
    "if (bmi < 18.5):\n",
    "    print(\"underweight\")\n",
    "  \n",
    "elif ( bmi >= 18.5 and bmi < 24.9):\n",
    "    print(\"Healthy\")\n",
    "  \n",
    "elif ( bmi >= 24.9 and bmi < 30):\n",
    "    print(\"overweight\")\n",
    "  \n",
    "elif ( bmi >=30):\n",
    "    print(\"Suffering from Obesity\")\n",
    "    "
   ]
  },
  {
   "cell_type": "code",
   "execution_count": 7,
   "id": "30a37f2f-6f75-44ca-8dc6-517a60e5f1a4",
   "metadata": {},
   "outputs": [
    {
     "name": "stdout",
     "output_type": "stream",
     "text": [
      "Password is valid\n"
     ]
    }
   ],
   "source": [
    "#31. Create a program that validates a password based on complexity rules (length, characters, etc.).\n",
    "# Function to validate the password\n",
    "def password_check(passwd):\n",
    "     \n",
    "    SpecialSym =['$', '@', '#', '%']\n",
    "    val = True\n",
    "     \n",
    "    if len(passwd) < 6:\n",
    "        print('length should be at least 6')\n",
    "        val = False\n",
    "         \n",
    "    if len(passwd) > 20:\n",
    "        print('length should be not be greater than 8')\n",
    "        val = False\n",
    "         \n",
    "    if not any(char.isdigit() for char in passwd):\n",
    "        print('Password should have at least one numeral')\n",
    "        val = False\n",
    "         \n",
    "    if not any(char.isupper() for char in passwd):\n",
    "        print('Password should have at least one uppercase letter')\n",
    "        val = False\n",
    "         \n",
    "    if not any(char.islower() for char in passwd):\n",
    "        print('Password should have at least one lowercase letter')\n",
    "        val = False\n",
    "         \n",
    "    if not any(char in SpecialSym for char in passwd):\n",
    "        print('Password should have at least one of the symbols $@#')\n",
    "        val = False\n",
    "    if val:\n",
    "        return val\n",
    " \n",
    "# Main method\n",
    "def main():\n",
    "    passwd = 'Geek12@'\n",
    "     \n",
    "    if (password_check(passwd)):\n",
    "        print(\"Password is valid\")\n",
    "    else:\n",
    "        print(\"Invalid Password !!\")\n",
    "         \n",
    "# Driver Code       \n",
    "if __name__ == '__main__':\n",
    "    main()"
   ]
  },
  {
   "cell_type": "code",
   "execution_count": 8,
   "id": "d33eb138-4f09-4ef1-ba25-e99dc74469d8",
   "metadata": {},
   "outputs": [
    {
     "name": "stdout",
     "output_type": "stream",
     "text": [
      "Printing elements of first matrix\n",
      "[[1 2]\n",
      " [3 4]]\n",
      "Printing elements of second matrix\n",
      "[[4 5]\n",
      " [6 7]]\n",
      "Addition of two matrix\n",
      "[[ 5  7]\n",
      " [ 9 11]]\n"
     ]
    }
   ],
   "source": [
    "#32. Develop a program that performs matrix addition and subtraction based on user input.\n",
    "# importing numpy as np\n",
    "import numpy as np\n",
    " \n",
    " \n",
    "# creating first matrix\n",
    "A = np.array([[1, 2], [3, 4]])\n",
    " \n",
    "# creating second matrix\n",
    "B = np.array([[4, 5], [6, 7]])\n",
    " \n",
    "print(\"Printing elements of first matrix\")\n",
    "print(A)\n",
    "print(\"Printing elements of second matrix\")\n",
    "print(B)\n",
    " \n",
    "# adding two matrix\n",
    "print(\"Addition of two matrix\")\n",
    "print(np.add(A, B))"
   ]
  },
  {
   "cell_type": "code",
   "execution_count": 9,
   "id": "440f7e41-dfce-45a9-a592-ede8d38ee25d",
   "metadata": {},
   "outputs": [
    {
     "name": "stdout",
     "output_type": "stream",
     "text": [
      "The gcd of 60 and 48 is : 12\n"
     ]
    }
   ],
   "source": [
    "#33. Write a program that calculates the greatest common divisor (GCD) of two numbers using the Euclidean algorithm.\n",
    "# Python code to demonstrate the working of gcd()\n",
    "# importing \"math\" for mathematical operations\n",
    "import math\n",
    " \n",
    "# prints 12\n",
    "print(\"The gcd of 60 and 48 is : \", end=\"\")\n",
    "print(math.gcd(60, 48))"
   ]
  },
  {
   "cell_type": "code",
   "execution_count": 10,
   "id": "3185ecbd-bada-4416-bcc9-8279c6e29c2a",
   "metadata": {},
   "outputs": [
    {
     "name": "stdout",
     "output_type": "stream",
     "text": [
      "[114, 160, 60, 27]\n",
      "[74, 97, 73, 14]\n",
      "[119, 157, 112, 23]\n"
     ]
    }
   ],
   "source": [
    "#34. Build a program that performs matrix multiplication using nested loops and conditional statements.\n",
    "# Program to multiply two matrices using nested loops\n",
    "\n",
    "# 3x3 matrix\n",
    "X = [[12,7,3],\n",
    "    [4 ,5,6],\n",
    "    [7 ,8,9]]\n",
    "# 3x4 matrix\n",
    "Y = [[5,8,1,2],\n",
    "    [6,7,3,0],\n",
    "    [4,5,9,1]]\n",
    "# result is 3x4\n",
    "result = [[0,0,0,0],\n",
    "         [0,0,0,0],\n",
    "         [0,0,0,0]]\n",
    "\n",
    "# iterate through rows of X\n",
    "for i in range(len(X)):\n",
    "   # iterate through columns of Y\n",
    "   for j in range(len(Y[0])):\n",
    "       # iterate through rows of Y\n",
    "       for k in range(len(Y)):\n",
    "           result[i][j] += X[i][k] * Y[k][j]\n",
    "\n",
    "for r in result:\n",
    "   print(r)"
   ]
  },
  {
   "cell_type": "code",
   "execution_count": null,
   "id": "8ebe729c-6390-4b92-b7bb-37e18a68bc26",
   "metadata": {},
   "outputs": [
    {
     "name": "stdout",
     "output_type": "stream",
     "text": [
      "- | - | -\n",
      "- | - | -\n",
      "- | - | -\n",
      "X's turn.\n"
     ]
    },
    {
     "name": "stdin",
     "output_type": "stream",
     "text": [
      "Choose a position from 1-9:  7\n"
     ]
    },
    {
     "name": "stdout",
     "output_type": "stream",
     "text": [
      "- | - | -\n",
      "- | - | -\n",
      "X | - | -\n",
      "O's turn.\n"
     ]
    },
    {
     "name": "stdin",
     "output_type": "stream",
     "text": [
      "Choose a position from 1-9:  5\n"
     ]
    },
    {
     "name": "stdout",
     "output_type": "stream",
     "text": [
      "- | - | -\n",
      "- | O | -\n",
      "X | - | -\n",
      "X's turn.\n"
     ]
    },
    {
     "name": "stdin",
     "output_type": "stream",
     "text": [
      "Choose a position from 1-9:  6\n"
     ]
    },
    {
     "name": "stdout",
     "output_type": "stream",
     "text": [
      "- | - | -\n",
      "- | O | X\n",
      "X | - | -\n",
      "O's turn.\n"
     ]
    }
   ],
   "source": [
    "#35. Create a program that simulates a basic text-based tic-tac-toe game against the computer.\n",
    "# Set up the game board as a list\n",
    "board = [\"-\", \"-\", \"-\",\n",
    "\t\t\"-\", \"-\", \"-\",\n",
    "\t\t\"-\", \"-\", \"-\"]\n",
    "\n",
    "# Define a function to print the game board\n",
    "def print_board():\n",
    "\tprint(board[0] + \" | \" + board[1] + \" | \" + board[2])\n",
    "\tprint(board[3] + \" | \" + board[4] + \" | \" + board[5])\n",
    "\tprint(board[6] + \" | \" + board[7] + \" | \" + board[8])\n",
    "\n",
    "# Define a function to handle a player's turn\n",
    "def take_turn(player):\n",
    "\tprint(player + \"'s turn.\")\n",
    "\tposition = input(\"Choose a position from 1-9: \")\n",
    "\twhile position not in [\"1\", \"2\", \"3\", \"4\", \"5\", \"6\", \"7\", \"8\", \"9\"]:\n",
    "\t\tposition = input(\"Invalid input. Choose a position from 1-9: \")\n",
    "\tposition = int(position) - 1\n",
    "\twhile board[position] != \"-\":\n",
    "\t\tposition = int(input(\"Position already taken. Choose a different position: \")) - 1\n",
    "\tboard[position] = player\n",
    "\tprint_board()\n",
    "\n",
    "# Define a function to check if the game is over\n",
    "def check_game_over():\n",
    "\t# Check for a win\n",
    "\tif (board[0] == board[1] == board[2] != \"-\") or \\\n",
    "\t(board[3] == board[4] == board[5] != \"-\") or \\\n",
    "\t(board[6] == board[7] == board[8] != \"-\") or \\\n",
    "\t(board[0] == board[3] == board[6] != \"-\") or \\\n",
    "\t(board[1] == board[4] == board[7] != \"-\") or \\\n",
    "\t(board[2] == board[5] == board[8] != \"-\") or \\\n",
    "\t(board[0] == board[4] == board[8] != \"-\") or \\\n",
    "\t(board[2] == board[4] == board[6] != \"-\"):\n",
    "\t\treturn \"win\"\n",
    "\t# Check for a tie\n",
    "\telif \"-\" not in board:\n",
    "\t\treturn \"tie\"\n",
    "\t# Game is not over\n",
    "\telse:\n",
    "\t\treturn \"play\"\n",
    "\n",
    "# Define the main game loop\n",
    "def play_game():\n",
    "\tprint_board()\n",
    "\tcurrent_player = \"X\"\n",
    "\tgame_over = False\n",
    "\twhile not game_over:\n",
    "\t\ttake_turn(current_player)\n",
    "\t\tgame_result = check_game_over()\n",
    "\t\tif game_result == \"win\":\n",
    "\t\t\tprint(current_player + \" wins!\")\n",
    "\t\t\tgame_over = True\n",
    "\t\telif game_result == \"tie\":\n",
    "\t\t\tprint(\"It's a tie!\")\n",
    "\t\t\tgame_over = True\n",
    "\t\telse:\n",
    "\t\t\t# Switch to the other player\n",
    "\t\t\tcurrent_player = \"O\" if current_player == \"X\" else \"X\"\n",
    "\n",
    "# Start the game\n",
    "play_game()\n"
   ]
  },
  {
   "cell_type": "code",
   "execution_count": 2,
   "id": "7b894ce2-82ae-4cae-b8a2-030a147b0c73",
   "metadata": {},
   "outputs": [
    {
     "name": "stdout",
     "output_type": "stream",
     "text": [
      "34\n"
     ]
    }
   ],
   "source": [
    "#36. Write a program that generates Fibonacci numbers up to a specified term using iterative methods.\n",
    "def fibonacci(n, memo={}):\n",
    "\tif n <= 0:\n",
    "\t\treturn 0\n",
    "\telif n == 1:\n",
    "\t\treturn 1\n",
    "\telif n in memo:\n",
    "\t\treturn memo[n]\n",
    "\telse:\n",
    "\t\tmemo[n] = fibonacci(n-1) + fibonacci(n-2)\n",
    "\t\treturn memo[n]\n",
    "\n",
    "# Driver Program\n",
    "print(fibonacci(9))\n"
   ]
  },
  {
   "cell_type": "code",
   "execution_count": 4,
   "id": "c763ae64-cf7c-4fd0-bfa9-7499e7f2ac95",
   "metadata": {},
   "outputs": [
    {
     "name": "stdout",
     "output_type": "stream",
     "text": [
      "34\n"
     ]
    }
   ],
   "source": [
    "#37. Develop a program that calculates the nth term of the Fibonacci sequence using memoization.\n",
    "# Fibonacci Series using\n",
    "# Optimized Method\n",
    "\n",
    "# function that returns nth\n",
    "# Fibonacci number\n",
    "\n",
    "\n",
    "def fib(n):\n",
    "\n",
    "\tF = [[1, 1],\n",
    "\t\t[1, 0]]\n",
    "\tif (n == 0):\n",
    "\t\treturn 0\n",
    "\tpower(F, n - 1)\n",
    "\n",
    "\treturn F[0][0]\n",
    "\n",
    "\n",
    "def multiply(F, M):\n",
    "\n",
    "\tx = (F[0][0] * M[0][0] +\n",
    "\t\tF[0][1] * M[1][0])\n",
    "\ty = (F[0][0] * M[0][1] +\n",
    "\t\tF[0][1] * M[1][1])\n",
    "\tz = (F[1][0] * M[0][0] +\n",
    "\t\tF[1][1] * M[1][0])\n",
    "\tw = (F[1][0] * M[0][1] +\n",
    "\t\tF[1][1] * M[1][1])\n",
    "\n",
    "\tF[0][0] = x\n",
    "\tF[0][1] = y\n",
    "\tF[1][0] = z\n",
    "\tF[1][1] = w\n",
    "\n",
    "# Optimized version of\n",
    "# power() in method 4\n",
    "\n",
    "\n",
    "def power(F, n):\n",
    "\n",
    "\tif(n == 0 or n == 1):\n",
    "\t\treturn\n",
    "\tM = [[1, 1],\n",
    "\t\t[1, 0]]\n",
    "\n",
    "\tpower(F, n // 2)\n",
    "\tmultiply(F, F)\n",
    "\n",
    "\tif (n % 2 != 0):\n",
    "\t\tmultiply(F, M)\n",
    "\n",
    "\n",
    "# Driver Code\n",
    "if __name__ == \"__main__\":\n",
    "\tn = 9\n",
    "\tprint(fib(n))\n",
    "\n",
    "# This code is contributed\n",
    "# by ChitraNayal\n"
   ]
  },
  {
   "cell_type": "code",
   "execution_count": null,
   "id": "83d6109a-9d81-4d58-85c9-7a1996d240a1",
   "metadata": {},
   "outputs": [
    {
     "name": "stdout",
     "output_type": "stream",
     "text": [
      "Please enter a date: \n"
     ]
    }
   ],
   "source": [
    "#38. Create a program that generates a calendar for a given month and year using conditional statements.\n",
    "def is_leap_year(year):\n",
    "    return (year % 4 == 0) and (year % 100 != 0) or (year % 400 == 0)\n",
    "\n",
    "def days_in_month(month, year):\n",
    "\n",
    "    if month in ['September', 'April', 'June', 'November']:\n",
    "        print(\"30\")\n",
    "\n",
    "\n",
    "    elif month in ['January', 'March', 'May', 'July', 'August','October','December']:\n",
    "        print(\"31\")\n",
    "\n",
    "    elif month == 'February' and is_leap_year(year) == True:\n",
    "        print(\"29\")\n",
    "\n",
    "    elif month == 'February' and is_leap_year(year) == False:\n",
    "        print(\"28\")\n",
    "\n",
    "    else:\n",
    "        return None\n",
    "\n",
    "print(\"Please enter a date: \")\n",
    "x = int(input(\"Day: \"))\n",
    "y = str(input(\"Month: \"))\n",
    "\n",
    "z = str(input(\"Year: \"))\n",
    "\n",
    "print(\"Menu:\")\n",
    "o = int(input(\"1)    Calculate the number of day in the given month. \\n2)    Calculate the number of days left in the given year. \"))\n",
    "\n",
    "\n",
    "if(o == \"2\"):\n",
    "    print (days_in_month(y,z))"
   ]
  },
  {
   "cell_type": "code",
   "execution_count": null,
   "id": "d1e9237f-216d-4b55-a258-8291cab78bf2",
   "metadata": {},
   "outputs": [],
   "source": []
  },
  {
   "cell_type": "code",
   "execution_count": 1,
   "id": "f9a3a8e8-9bdb-42f0-8d56-218badfaef8d",
   "metadata": {},
   "outputs": [
    {
     "name": "stdout",
     "output_type": "stream",
     "text": [
      "6 of Diamonds and 7 of Spades\n",
      "50\n"
     ]
    }
   ],
   "source": [
    "#39. Build a program that simulates a basic text-based blackjack game against the computer.\n",
    "from random import randint\n",
    "\n",
    "class Card:\n",
    "    def __init__(self):\n",
    "        pass\n",
    "\n",
    "    def card_value(self):\n",
    "        pass\n",
    "\n",
    "    card_face = ['Ace','2','3','4','5','6','7','8','9','10','J','Q','K']\n",
    "    card_suit = ['Hearts','Spades','Clubs','Diamonds']\n",
    "\n",
    "\n",
    "\n",
    "class Deck(Card):\n",
    "    new_deck = []\n",
    "    length = len(new_deck) #testing purposes\n",
    "\n",
    "    for i in Card.card_suit:\n",
    "        for j in Card.card_face:\n",
    "            new_deck.append(j + ' of ' + i)\n",
    "\n",
    "    def new_card(self):\n",
    "        #instead of return, use yield?\n",
    "        return (self.new_deck[randint(0,len(self.new_deck)-1)])\n",
    "    def remove_card(self,card):\n",
    "        self.new_deck.remove(card)\n",
    "\n",
    "\n",
    "\n",
    "deck1 = Deck()\n",
    "card1 = deck1.new_card()\n",
    "deck1.remove_card(card1)\n",
    "card2 = deck1.new_card()\n",
    "deck1.remove_card(card2)\n",
    "print(str(card1) + \" and \" + str(card2))\n",
    "print(len(deck1.new_deck))"
   ]
  },
  {
   "cell_type": "code",
   "execution_count": 9,
   "id": "de806e72-b82f-41f7-b5c6-150240b0e6bf",
   "metadata": {},
   "outputs": [
    {
     "name": "stdout",
     "output_type": "stream",
     "text": [
      "Prime factors of 20 are {2, 5}\n",
      "Prime factors of 1260 are {2, 3, 5, 7}\n"
     ]
    }
   ],
   "source": [
    "#40. Write a program that generates the prime factors of a given number using trial division.\n",
    "def calculate_prime_factors(N):\n",
    "    prime_factors = set()\n",
    "    if N % 2 == 0:\n",
    "        prime_factors.add(2)\n",
    "    while N % 2 == 0:\n",
    "        N = N // 2\n",
    "        if N == 1:\n",
    "            return prime_factors\n",
    "    for factor in range(3, N + 1, 2):\n",
    "        if N % factor == 0:\n",
    "            prime_factors.add(factor)\n",
    "            while N % factor == 0:\n",
    "                N = N // factor\n",
    "                if N == 1:\n",
    "                    return prime_factors\n",
    "\n",
    "\n",
    "input_number = 20\n",
    "output = calculate_prime_factors(input_number)\n",
    "print(\"Prime factors of {} are {}\".format(input_number, output))\n",
    "input_number = 1260\n",
    "output = calculate_prime_factors(input_number)\n",
    "print(\"Prime factors of {} are {}\".format(input_number, output))"
   ]
  },
  {
   "cell_type": "code",
   "execution_count": null,
   "id": "0e7e5fc1-33c5-46fd-9038-832ce6045414",
   "metadata": {},
   "outputs": [],
   "source": [
    "#complete\n"
   ]
  }
 ],
 "metadata": {
  "kernelspec": {
   "display_name": "Python 3 (ipykernel)",
   "language": "python",
   "name": "python3"
  },
  "language_info": {
   "codemirror_mode": {
    "name": "ipython",
    "version": 3
   },
   "file_extension": ".py",
   "mimetype": "text/x-python",
   "name": "python",
   "nbconvert_exporter": "python",
   "pygments_lexer": "ipython3",
   "version": "3.10.8"
  }
 },
 "nbformat": 4,
 "nbformat_minor": 5
}
